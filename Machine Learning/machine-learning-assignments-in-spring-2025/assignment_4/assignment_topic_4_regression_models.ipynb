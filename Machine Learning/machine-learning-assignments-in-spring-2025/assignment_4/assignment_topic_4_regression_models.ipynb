{
 "cells": [
  {
   "cell_type": "markdown",
   "id": "0931e133",
   "metadata": {},
   "source": [
    "# Machine Learning: Assignment 4\n",
    "## Regression methods (max. 10p)"
   ]
  },
  {
   "cell_type": "code",
   "execution_count": 226,
   "id": "ab39b16b",
   "metadata": {
    "ExecuteTime": {
     "end_time": "2024-12-12T13:45:36.413497Z",
     "start_time": "2024-12-12T13:45:36.406091Z"
    }
   },
   "outputs": [],
   "source": [
    "# Write Your information in here\n",
    "student_name = 'Phat Vuong'\n",
    "student_email = \"ac4933@student.jamk.fi\""
   ]
  },
  {
   "cell_type": "markdown",
   "id": "a8ddb44f",
   "metadata": {},
   "source": [
    "## Assignment 4.1: Preprocess the data (2 p)\n",
    "### Topic: Productivity of textile workers\n",
    "\n",
    "1. Explore and download the data from [https://archive.ics.uci.edu/ml/datasets/Productivity+Prediction+of+Garment+Employees#](https://archive.ics.uci.edu/ml/datasets/Productivity+Prediction+of+Garment+Employees#). Load the data into the DataFrame.\n",
    "\n",
    "2. Remove background variables from the analyzed data.\n",
    "\n",
    "3. Decide what to do with the missing values.\n",
    "\n",
    "4. Normalize the data.\n",
    "\n",
    "5. Additionally, create a new class variable with a value of 0 if the productivity is less than 0.5 and with a value of 1 if the productivity is above 0.5. Store this in the df variable as column `class`. That will be used in classification assignment (4.3)."
   ]
  },
  {
   "cell_type": "code",
   "execution_count": 227,
   "id": "38fb1b22",
   "metadata": {
    "ExecuteTime": {
     "end_time": "2024-12-12T13:45:39.747356Z",
     "start_time": "2024-12-12T13:45:36.432455Z"
    },
    "lines_to_next_cell": 2
   },
   "outputs": [
    {
     "name": "stderr",
     "output_type": "stream",
     "text": [
      "C:\\Users\\PHAT\\AppData\\Local\\Temp\\ipykernel_48104\\3027481097.py:13: FutureWarning: A value is trying to be set on a copy of a DataFrame or Series through chained assignment using an inplace method.\n",
      "The behavior will change in pandas 3.0. This inplace method will never work because the intermediate object on which we are setting values always behaves as a copy.\n",
      "\n",
      "For example, when doing 'df[col].method(value, inplace=True)', try using 'df.method({col: value}, inplace=True)' or df[col] = df[col].method(value) instead, to perform the operation inplace on the original object.\n",
      "\n",
      "\n",
      "  df1['wip'].fillna(df['wip'].mean(), inplace=True) # Fill with mean\n"
     ]
    },
    {
     "data": {
      "text/html": [
       "<div>\n",
       "<style scoped>\n",
       "    .dataframe tbody tr th:only-of-type {\n",
       "        vertical-align: middle;\n",
       "    }\n",
       "\n",
       "    .dataframe tbody tr th {\n",
       "        vertical-align: top;\n",
       "    }\n",
       "\n",
       "    .dataframe thead th {\n",
       "        text-align: right;\n",
       "    }\n",
       "</style>\n",
       "<table border=\"1\" class=\"dataframe\">\n",
       "  <thead>\n",
       "    <tr style=\"text-align: right;\">\n",
       "      <th></th>\n",
       "      <th>targeted_productivity</th>\n",
       "      <th>smv</th>\n",
       "      <th>wip</th>\n",
       "      <th>over_time</th>\n",
       "      <th>incentive</th>\n",
       "      <th>idle_time</th>\n",
       "      <th>idle_men</th>\n",
       "      <th>no_of_style_change</th>\n",
       "      <th>no_of_workers</th>\n",
       "      <th>actual_productivity</th>\n",
       "    </tr>\n",
       "  </thead>\n",
       "  <tbody>\n",
       "    <tr>\n",
       "      <th>0</th>\n",
       "      <td>0.80</td>\n",
       "      <td>26.16</td>\n",
       "      <td>1108.000000</td>\n",
       "      <td>7080</td>\n",
       "      <td>98</td>\n",
       "      <td>0.0</td>\n",
       "      <td>0</td>\n",
       "      <td>0</td>\n",
       "      <td>59.0</td>\n",
       "      <td>0.940725</td>\n",
       "    </tr>\n",
       "    <tr>\n",
       "      <th>1</th>\n",
       "      <td>0.75</td>\n",
       "      <td>3.94</td>\n",
       "      <td>1190.465991</td>\n",
       "      <td>960</td>\n",
       "      <td>0</td>\n",
       "      <td>0.0</td>\n",
       "      <td>0</td>\n",
       "      <td>0</td>\n",
       "      <td>8.0</td>\n",
       "      <td>0.886500</td>\n",
       "    </tr>\n",
       "    <tr>\n",
       "      <th>2</th>\n",
       "      <td>0.80</td>\n",
       "      <td>11.41</td>\n",
       "      <td>968.000000</td>\n",
       "      <td>3660</td>\n",
       "      <td>50</td>\n",
       "      <td>0.0</td>\n",
       "      <td>0</td>\n",
       "      <td>0</td>\n",
       "      <td>30.5</td>\n",
       "      <td>0.800570</td>\n",
       "    </tr>\n",
       "    <tr>\n",
       "      <th>3</th>\n",
       "      <td>0.80</td>\n",
       "      <td>11.41</td>\n",
       "      <td>968.000000</td>\n",
       "      <td>3660</td>\n",
       "      <td>50</td>\n",
       "      <td>0.0</td>\n",
       "      <td>0</td>\n",
       "      <td>0</td>\n",
       "      <td>30.5</td>\n",
       "      <td>0.800570</td>\n",
       "    </tr>\n",
       "    <tr>\n",
       "      <th>4</th>\n",
       "      <td>0.80</td>\n",
       "      <td>25.90</td>\n",
       "      <td>1170.000000</td>\n",
       "      <td>1920</td>\n",
       "      <td>50</td>\n",
       "      <td>0.0</td>\n",
       "      <td>0</td>\n",
       "      <td>0</td>\n",
       "      <td>56.0</td>\n",
       "      <td>0.800382</td>\n",
       "    </tr>\n",
       "  </tbody>\n",
       "</table>\n",
       "</div>"
      ],
      "text/plain": [
       "   targeted_productivity    smv          wip  over_time  incentive  idle_time  \\\n",
       "0                   0.80  26.16  1108.000000       7080         98        0.0   \n",
       "1                   0.75   3.94  1190.465991        960          0        0.0   \n",
       "2                   0.80  11.41   968.000000       3660         50        0.0   \n",
       "3                   0.80  11.41   968.000000       3660         50        0.0   \n",
       "4                   0.80  25.90  1170.000000       1920         50        0.0   \n",
       "\n",
       "   idle_men  no_of_style_change  no_of_workers  actual_productivity  \n",
       "0         0                   0           59.0             0.940725  \n",
       "1         0                   0            8.0             0.886500  \n",
       "2         0                   0           30.5             0.800570  \n",
       "3         0                   0           30.5             0.800570  \n",
       "4         0                   0           56.0             0.800382  "
      ]
     },
     "execution_count": 227,
     "metadata": {},
     "output_type": "execute_result"
    }
   ],
   "source": [
    "import pandas as pd\n",
    "from sklearn.preprocessing import MinMaxScaler\n",
    "\n",
    "# Load the dataset from the provided URL\n",
    "df = pd.read_csv(\"garments_worker_productivity.csv\")\n",
    "\n",
    "# Define the background variables to remove\n",
    "background_vars = ['date', 'quarter', 'department' , 'day', 'team']\n",
    "df1 = df.drop(columns=background_vars)\n",
    "\n",
    "# Handle missing values\n",
    "# For simplicity, fill missing values with the mean of the column (Recomended)\n",
    "df1['wip'].fillna(df['wip'].mean(), inplace=True) # Fill with mean\n",
    "\n",
    "# Verify after filling missing values\n",
    "df1.head()\n"
   ]
  },
  {
   "cell_type": "code",
   "execution_count": 228,
   "id": "f9ee4094",
   "metadata": {},
   "outputs": [],
   "source": [
    "# Normalize the data\n",
    "numeric_cols = df1.select_dtypes(include=['float64', 'int64']).columns\n",
    "scaler = MinMaxScaler()\n",
    "df1[numeric_cols] = scaler.fit_transform(df1[numeric_cols])\n",
    "\n",
    "# Create the 'class' column based on the 'actual_productivity' column\n",
    "df1['class'] = (df['actual_productivity'] > 0.5).astype(int)\n"
   ]
  },
  {
   "cell_type": "code",
   "execution_count": 229,
   "id": "6295a75b",
   "metadata": {
    "ExecuteTime": {
     "end_time": "2024-12-12T13:45:39.943471Z",
     "start_time": "2024-12-12T13:45:39.934160Z"
    }
   },
   "outputs": [
    {
     "name": "stdout",
     "output_type": "stream",
     "text": [
      "Columns: Index(['targeted_productivity', 'smv', 'wip', 'over_time', 'incentive',\n",
      "       'idle_time', 'idle_men', 'no_of_style_change', 'no_of_workers',\n",
      "       'actual_productivity', 'class'],\n",
      "      dtype='object')\n",
      "First row by position: targeted_productivity    1.000000\n",
      "smv                      0.450252\n",
      "wip                      0.047631\n",
      "over_time                0.273148\n",
      "incentive                0.027222\n",
      "idle_time                0.000000\n",
      "idle_men                 0.000000\n",
      "no_of_style_change       0.000000\n",
      "no_of_workers            0.655172\n",
      "actual_productivity      0.797332\n",
      "class                    1.000000\n",
      "Name: 0, dtype: float64\n"
     ]
    }
   ],
   "source": [
    "# Answers to the assignment. Note! Do not edit this cell, just run it after you complete the assignment.\n",
    "# Save the DataFrame to the df variable and the training data.\n",
    "print(f'Columns: {df1.columns}')\n",
    "print(f'First row by position: {df1.iloc[0]}')"
   ]
  },
  {
   "cell_type": "markdown",
   "id": "572cbbba",
   "metadata": {},
   "source": [
    "## Assignment 4.2: Regression using a Linear Regression model (2 p)\n",
    "\n",
    "1. Split the data into training (67%) and testing data (33%), also saving the class variables as their own vectors (`X_train`, `y_train`, `X_test`, `y_test`). Use random seed `2150`.\n",
    "\n",
    "Tip: don't put the columns `actual_productivity` or `class` in the input variables (features).\n",
    "\n",
    "2. Use the [functions](https://scikit-learn.org/stable/modules/classes.html#module-sklearn.ensemble) from `ensemble` module\n",
    "of the `scikit-learn` library and create a regression model using a linear regressor. So you try to predict the `actual_productivity` variable.\n",
    "\n",
    "Use random seed `2100`.\n",
    "\n",
    "3. Predict the `actual_productivity` of the test dataset. Record the explained variance `exp_var` and\n",
    "the maximum error `max_err` using the tools in the `metrics` module of the library."
   ]
  },
  {
   "cell_type": "code",
   "execution_count": 230,
   "id": "c67101d5",
   "metadata": {
    "ExecuteTime": {
     "end_time": "2024-12-12T13:45:39.979739Z",
     "start_time": "2024-12-12T13:45:39.974827Z"
    }
   },
   "outputs": [],
   "source": [
    "from sklearn.model_selection import train_test_split\n",
    "from sklearn.linear_model import LinearRegression\n",
    "from sklearn.metrics import explained_variance_score, max_error\n",
    "\n",
    "# Define features (excluding 'actual_productivity' and 'class')\n",
    "X = df1.drop(columns=['actual_productivity', 'class'])\n",
    "y = df1['actual_productivity']\n",
    "\n",
    "# Split the data into training (67%) and testing data (33%)\n",
    "X_train, X_test, y_train, y_test = train_test_split(X, y, test_size=0.33, random_state=2150)"
   ]
  },
  {
   "cell_type": "code",
   "execution_count": 231,
   "id": "91a18ad3",
   "metadata": {
    "ExecuteTime": {
     "end_time": "2024-12-12T13:45:40.031757Z",
     "start_time": "2024-12-12T13:45:40.025879Z"
    }
   },
   "outputs": [],
   "source": [
    "# Create and test Linear regression model\n",
    "linear_regressor = LinearRegression()\n",
    "linear_regressor.fit(X_train, y_train)\n",
    "\n",
    "# Predict the actual_productivity on the test dataset\n",
    "y_pred_linear = linear_regressor.predict(X_test)\n",
    "\n",
    "# Assign predictions to y_pred\n",
    "y_pred = y_pred_linear\n",
    "\n",
    "# Calculate explained variance and maximun error for the Linear Regression model\n",
    "exp_var_linear = explained_variance_score(y_test, y_pred_linear)\n",
    "max_err_linear = max_error(y_test, y_pred_linear)"
   ]
  },
  {
   "cell_type": "code",
   "execution_count": 232,
   "id": "7305ea97",
   "metadata": {},
   "outputs": [],
   "source": [
    "# Assign calculated values to required variables\n",
    "exp_var = exp_var_linear\n",
    "max_err = max_err_linear"
   ]
  },
  {
   "cell_type": "code",
   "execution_count": 233,
   "id": "6ac02e93",
   "metadata": {
    "ExecuteTime": {
     "end_time": "2024-12-12T13:45:40.062917Z",
     "start_time": "2024-12-12T13:45:40.055213Z"
    }
   },
   "outputs": [
    {
     "name": "stdout",
     "output_type": "stream",
     "text": [
      "Test length: 396\n",
      "Train length: 801\n",
      "Train columns: Index(['targeted_productivity', 'smv', 'wip', 'over_time', 'incentive',\n",
      "       'idle_time', 'idle_men', 'no_of_style_change', 'no_of_workers'],\n",
      "      dtype='object')\n",
      "Train columns length: 9\n",
      "Predict 5 items: [0.61877796 0.62308229 0.65864016 0.45802464 0.48529904] ... [0.62725341 0.61911627 0.58895113 0.54223115 0.65947342]\n",
      "Explained variance: 0.23035412343747286\n",
      "Maximum error: 0.608433388669771\n",
      "Explained variance (Weighted): 0.23035412343747286\n"
     ]
    }
   ],
   "source": [
    "# Answers to the assignment. Note! Do not edit this cell, just run it after you complete the assignment.\n",
    "# Save responses in exp_var and max_err variables.\n",
    "print(f'Test length: {len(X_test)}')\n",
    "print(f'Train length: {len(X_train)}')\n",
    "print(f'Train columns: {X_train.columns}')\n",
    "print(f'Train columns length: {len(X_train.columns)}')\n",
    "print(f'Predict 5 items: {y_pred[:5]} ... {y_pred[-5:]}')\n",
    "\n",
    "print(f'Explained variance: {exp_var}')\n",
    "print(f'Maximum error: {max_err}')\n",
    "print(f'Explained variance (Weighted): {exp_var_2}')"
   ]
  },
  {
   "cell_type": "markdown",
   "id": "8089f363",
   "metadata": {},
   "source": [
    "**Explained variance** refers to the variance in the response variable in a model that can be explained by the predictor variable(s) in the model.\n",
    "The higher the explained variance of a model, the more the model is able to explain the variation in the data.\n",
    "\n",
    "Calculate and analyze the explained variance for the assignment."
   ]
  },
  {
   "cell_type": "code",
   "execution_count": 251,
   "id": "b3374023",
   "metadata": {
    "ExecuteTime": {
     "end_time": "2024-12-12T13:45:40.122112Z",
     "start_time": "2024-12-12T13:45:40.115630Z"
    },
    "lines_to_next_cell": 2
   },
   "outputs": [
    {
     "name": "stdout",
     "output_type": "stream",
     "text": [
      "Explained variance (Weighted): 0.3687125444193392\n",
      "Explained variance (Weighted): 0.3687125444193392\n"
     ]
    }
   ],
   "source": [
    "exp_var = explained_variance_score(y_test, y_pred)\n",
    "exp_var_weighted = explained_variance_score(y_test, y_pred, multioutput='variance_weighted')\n",
    "\n",
    "exp_var_2 = exp_var_weighted\n",
    "\n",
    "# TODO: Explained variance\n",
    "print(f'Explained variance (Weighted): {exp_var}')\n",
    "print(f'Explained variance (Weighted): {exp_var_weighted}')"
   ]
  },
  {
   "cell_type": "markdown",
   "id": "7475d503",
   "metadata": {},
   "source": [
    "## Assignment 4.3: Classification using Random Forest (2 p)\n",
    "\n",
    "1. Create training and testing data. Use random seed `2150`. Note that the `class` variable is now predicted.\n",
    "\n",
    "2. Use the [functions](https://scikit-learn.org/stable/modules/classes.html#module-sklearn.ensemble) from `ensemble` module\n",
    "of the `scikit-learn` library and create a classification model using a random forest. Use random seed `2100`. So let's try to predict the class variable `class`.\n",
    "\n",
    "3. Predict `class` from the test data. Generate the accuracy report `cr` and the confusion matrix `cm` using the tools in the `metrics` module of the library."
   ]
  },
  {
   "cell_type": "code",
   "execution_count": 235,
   "id": "eabe4708",
   "metadata": {
    "ExecuteTime": {
     "end_time": "2024-12-12T13:45:43.215151Z",
     "start_time": "2024-12-12T13:45:40.137077Z"
    }
   },
   "outputs": [],
   "source": [
    "import pandas as pd\n",
    "from sklearn.model_selection import train_test_split\n",
    "from sklearn.ensemble import RandomForestClassifier\n",
    "from sklearn.metrics import classification_report, confusion_matrix\n",
    "import matplotlib.pyplot as plt\n",
    "\n",
    "# Define features (excluding 'actual_productivity' and 'class')\n",
    "X = df1.drop(columns=['actual_productivity', 'class'])\n",
    "y = df1['class']\n",
    "\n",
    "# Split the dataset int training (67%) and testing (33%) sets\n",
    "X_train, X_test, y_train, y_test = train_test_split(X, y, test_size=0.33, random_state=2150)\n",
    "\n",
    "# Initialize the Random Forest Classifier\n",
    "rf_classifier = RandomForestClassifier(random_state=2150)\n",
    "\n",
    "# Train the model\n",
    "rf_classifier.fit(X_train, y_train)\n",
    "\n",
    "# Predict on the test data\n",
    "y_pred = rf_classifier.predict(X_test)\n",
    "\n",
    "# Evaluate the model\n",
    "cr = classification_report(y_test, y_pred)\n",
    "cm = confusion_matrix(y_test, y_pred)"
   ]
  },
  {
   "cell_type": "code",
   "execution_count": 236,
   "id": "938b9e5e",
   "metadata": {
    "ExecuteTime": {
     "end_time": "2024-12-12T13:45:44.389278Z",
     "start_time": "2024-12-12T13:45:43.227328Z"
    }
   },
   "outputs": [
    {
     "name": "stdout",
     "output_type": "stream",
     "text": [
      "Test length: 396\n",
      "Train length: 801\n",
      "              precision    recall  f1-score   support\n",
      "\n",
      "           0       0.59      0.45      0.51        49\n",
      "           1       0.92      0.96      0.94       347\n",
      "\n",
      "    accuracy                           0.89       396\n",
      "   macro avg       0.76      0.70      0.73       396\n",
      "weighted avg       0.88      0.89      0.89       396\n",
      "\n",
      "[[ 22  27]\n",
      " [ 15 332]]\n"
     ]
    }
   ],
   "source": [
    "# Answers to the assignment. Note! Do not edit this cell, just run it after you complete the assignment.\n",
    "# The results are in cm and cr variables.\n",
    "print(f'Test length: {len(X_test)}')\n",
    "print(f'Train length: {len(X_train)}')\n",
    "print(cr)\n",
    "print(cm)"
   ]
  },
  {
   "cell_type": "markdown",
   "id": "ae5a7dd2",
   "metadata": {},
   "source": [
    "Show the importance of the features when using the **Random Forest Classifier** method."
   ]
  },
  {
   "cell_type": "code",
   "execution_count": 237,
   "id": "24912ca0",
   "metadata": {
    "ExecuteTime": {
     "end_time": "2024-12-12T13:47:22.315755Z",
     "start_time": "2024-12-12T13:47:22.310845Z"
    }
   },
   "outputs": [],
   "source": [
    "# The importance of features\n",
    "feature_importances = rf_classifier.feature_importances_"
   ]
  },
  {
   "cell_type": "code",
   "execution_count": 238,
   "id": "864f5c9e",
   "metadata": {
    "ExecuteTime": {
     "end_time": "2024-12-12T13:47:22.340864Z",
     "start_time": "2024-12-12T13:47:22.335708Z"
    }
   },
   "outputs": [
    {
     "data": {
      "image/png": "[encoded data removed]",
      "text/plain": [
       "<Figure size 1000x600 with 1 Axes>"
      ]
     },
     "metadata": {},
     "output_type": "display_data"
    }
   ],
   "source": [
    "# Visualize feature importance\n",
    "features = X.columns\n",
    "importances = pd.Series(feature_importances, index=features)\n",
    "importances = importances.sort_values()\n",
    "\n",
    "plt.figure(figsize=(10, 6))\n",
    "importances.plot(kind='barh')\n",
    "plt.title('Feature Importances')\n",
    "plt.xlabel('Importance')\n",
    "plt.ylabel('Features')\n",
    "plt.show()"
   ]
  },
  {
   "cell_type": "markdown",
   "id": "b16da385",
   "metadata": {},
   "source": [
    "## Assignment 4.4: Regression using Random Forest Regressor (2 p)\n",
    "\n",
    "Repeat same than **assignment 4.2** but now using a **Random Forest Regression** method.\n",
    "\n",
    "Also calculate the *explained variance* and *maximum error*."
   ]
  },
  {
   "cell_type": "code",
   "execution_count": 239,
   "id": "c477333d",
   "metadata": {
    "ExecuteTime": {
     "end_time": "2024-12-12T13:47:22.364623Z",
     "start_time": "2024-12-12T13:47:22.358063Z"
    }
   },
   "outputs": [],
   "source": [
    "import pandas as pd\n",
    "from sklearn.model_selection import train_test_split\n",
    "from sklearn.ensemble import RandomForestRegressor\n",
    "from sklearn.metrics import explained_variance_score, max_error\n",
    "import matplotlib.pyplot as plt\n",
    "\n",
    "# Define features and target\n",
    "X = df1.drop(columns=['actual_productivity', 'class'])\n",
    "y = df1['actual_productivity']\n",
    "\n",
    "# Split the dataset into training (67%) and testing (33%) sets\n",
    "X_train, X_test, y_train, y_test = train_test_split(X, y, test_size=0.33, random_state=2150)\n",
    "\n",
    "# Initialize the Random Forest Regressor\n",
    "rf_regressor = RandomForestRegressor(random_state=2150)\n",
    "\n",
    "# Train the model\n",
    "rf_regressor.fit(X_train, y_train)\n",
    "\n",
    "# Predict on the test data\n",
    "y_pred = rf_regressor.predict(X_test)\n",
    "\n",
    "# Evaluate the model\n",
    "exp_var = explained_variance_score(y_test, y_pred)\n",
    "max_err = max_error(y_test, y_pred)"
   ]
  },
  {
   "cell_type": "code",
   "execution_count": 240,
   "id": "dbf457f2",
   "metadata": {
    "ExecuteTime": {
     "end_time": "2024-12-12T13:47:22.411689Z",
     "start_time": "2024-12-12T13:47:22.405079Z"
    },
    "lines_to_next_cell": 2
   },
   "outputs": [
    {
     "name": "stdout",
     "output_type": "stream",
     "text": [
      "Explained variance: 0.3687125444193392\n",
      "Maximum error: 0.7189440086547636\n"
     ]
    }
   ],
   "source": [
    "# Answers to the assignment. Note! Do not edit this cell, just run it after you complete the assignment.\n",
    "# Save responses in exp_var and max_err and exp_var_2 variables.\n",
    "\n",
    "print(f'Explained variance: {exp_var}')\n",
    "print(f'Maximum error: {max_err}')"
   ]
  },
  {
   "cell_type": "markdown",
   "id": "ea25d8f7",
   "metadata": {},
   "source": [
    "**Explained variance** refers to the variance in the response variable in a model that can be explained by the predictor variable(s) in the model.\n",
    "The higher the explained variance of a model, the more the model is able to explain the variation in the data.\n",
    "\n",
    "Calculate and analyze the explained variance for the assignment."
   ]
  },
  {
   "cell_type": "code",
   "execution_count": 250,
   "id": "dc74bdd3",
   "metadata": {
    "ExecuteTime": {
     "end_time": "2024-12-12T13:47:22.425481Z",
     "start_time": "2024-12-12T13:47:22.419672Z"
    },
    "lines_to_next_cell": 2
   },
   "outputs": [
    {
     "name": "stdout",
     "output_type": "stream",
     "text": [
      "Explained variance (Weighted): 0.3687125444193392\n",
      "Explained variance (Weighted): 0.3687125444193392\n"
     ]
    }
   ],
   "source": [
    "exp_var = explained_variance_score(y_test, y_pred)\n",
    "exp_var_weighted = explained_variance_score(y_test, y_pred, multioutput='variance_weighted')\n",
    "\n",
    "# TODO: Explained variance\n",
    "exp_var_2 = exp_var_weighted\n",
    "\n",
    "print(f'Explained variance (Weighted): {exp_var_2}')\n",
    "print(f'Explained variance (Weighted): {exp_var_weighted}')"
   ]
  },
  {
   "cell_type": "markdown",
   "id": "6f09492e",
   "metadata": {},
   "source": [
    "Show the **importance of the features** when using **Random Forest Regressor** method."
   ]
  },
  {
   "cell_type": "code",
   "execution_count": 242,
   "id": "69fbb217",
   "metadata": {
    "ExecuteTime": {
     "end_time": "2024-12-12T13:47:22.456114Z",
     "start_time": "2024-12-12T13:47:22.451635Z"
    }
   },
   "outputs": [],
   "source": [
    "# The importance of features with Random Forest Regressor\n",
    "feature_importances = rf_regressor.feature_importances_\n"
   ]
  },
  {
   "cell_type": "code",
   "execution_count": 243,
   "id": "f168aeaa",
   "metadata": {
    "ExecuteTime": {
     "end_time": "2024-12-12T13:47:22.474672Z",
     "start_time": "2024-12-12T13:47:22.470884Z"
    }
   },
   "outputs": [
    {
     "data": {
      "image/png": "[encoded data removed]",
      "text/plain": [
       "<Figure size 1000x600 with 1 Axes>"
      ]
     },
     "metadata": {},
     "output_type": "display_data"
    }
   ],
   "source": [
    "# Visualize feature importance\n",
    "features = X.columns\n",
    "importances = pd.Series(feature_importances, index=features)\n",
    "importances = importances.sort_values()\n",
    "\n",
    "plt.figure(figsize=(10, 6))\n",
    "importances.plot(kind='barh')\n",
    "plt.title('Feature Importances')\n",
    "plt.xlabel('Importance')\n",
    "plt.ylabel('Features')\n",
    "plt.show()\n"
   ]
  },
  {
   "cell_type": "markdown",
   "id": "61580fc8",
   "metadata": {
    "lines_to_next_cell": 2
   },
   "source": [
    "## Assignment 4.5: Analysis of results (2 p)\n",
    "\n",
    "Let's do a result analysis where you verbally compare the regression results obtained in the assignments 4.2 and 4.4.\n",
    "* **4.2** (Linear regression) and\n",
    "* **4.4** (Random Forest regression).\n",
    "\n",
    "You can use **tables** or **figures** to present results in addition to verbal explanation and analysis.\n",
    "\n",
    "Comparison of Different Regression Models:\n",
    "\n",
    "* Compare the regression results of Random Forest and Linear Regression models.\n",
    "* Is there others good regression methods to apply with this dataset?\n",
    "\n",
    "<font color=\"red\">PLEASE WRITE YOUR EXPLANATION HERE.</font>\n",
    "\n"
   ]
  },
  {
   "cell_type": "markdown",
   "id": "cd9a2106",
   "metadata": {},
   "source": [
    "### Comparison of Regression Models\n",
    "\n",
    "| Metric | Linear Regression | Random Forest Regression | \n",
    "|---|---|---|\n",
    "| Explained Variance | 0.2304 | 0.3687 |\n",
    "| Maximum Error | 0.6084 | 0.7189 |\n",
    "| Explained Variance (Weighted) | 0.3687 | 0.3687 |"
   ]
  },
  {
   "cell_type": "markdown",
   "id": "b0088e77",
   "metadata": {},
   "source": [
    "### Key Observations\n",
    "\n",
    "1. **Explained Variance**\n",
    "\n",
    "- The **Random Forest Regression** model has a significantly higher explained variance **(0.3687 vs. 0.2304)** compared to the Linear Regression model.\n",
    "- This indicates that the **Random Forest model is better at capturing variance** in the dataset, meaning it explains more of the variation in actual productivity.\n",
    "\n",
    "2. **Maximum Error**\n",
    "\n",
    "- The **Linear Regression model has a lower maximum error (0.6084 vs. 0.7189)**, suggesting that its worst-case predictions are slightly **more stable**.\n",
    "- This means that while the Random Forest model is generally more accurate, it may have **larger deviations in certain cases**.\n",
    "\n",
    "3. **Explained Variance (Weighted)**\n",
    "\n",
    "- The **weighted explained variance is the same for both models (0.3687)**, suggesting that the overall variance captured across multiple outputs remains consistent.\n",
    "- However, since the **Random Forest model captures non-linear relationships**, it still **outperforms** Linear Regression in overall predictive performance."
   ]
  },
  {
   "cell_type": "markdown",
   "id": "dc9c049a",
   "metadata": {},
   "source": [
    "### Feature Importance Analysis\n",
    "The **feature importance plot** from the Random Forest model highlights the following:\n",
    "\n",
    "- **Targeted productivity** is the most critical feature.\n",
    "- **SMV (Standard Minute Value), number of workers, overtime, and incentives** play significant roles.\n",
    "- **Idle time and idle men have minimal impact**, meaning they contribute little to productivity prediction.\n",
    "\n",
    "=> This suggests that **Linear Regression may struggle because it assumes a strictly linear relationship**, while **Random Forest can adapt to these varying feature influences**."
   ]
  },
  {
   "cell_type": "markdown",
   "id": "9c75d1ed",
   "metadata": {},
   "source": [
    "### Conclusion: Which Model is Better?\n",
    "\n",
    "| Criteria | Best Model | Reason | \n",
    "|---|---|---|\n",
    "| Predictive Performance | Random Forest Regression | Higher explained variance |\n",
    "| Stability (Max Error) | Linear Regression | Lower worst-case error |\n",
    "| Capturing Non-Linearity | Random Forest Regression | Handles complex relationships better |\n",
    "| Interpretability | Linear Regression | Easier to explain coefficients |\n",
    "\n",
    "- If the goal is **high accuracy, Random Forest Regression** is the better choice.\n",
    "- If **interpretability and simplicity** are key, **Linear Regression** may be preferable."
   ]
  }
 ],
 "metadata": {
  "jupytext": {
   "cell_metadata_filter": "-all",
   "main_language": "python",
   "notebook_metadata_filter": "-all"
  },
  "kernelspec": {
   "display_name": "Python 3",
   "language": "python",
   "name": "python3"
  },
  "language_info": {
   "codemirror_mode": {
    "name": "ipython",
    "version": 3
   },
   "file_extension": ".py",
   "mimetype": "text/x-python",
   "name": "python",
   "nbconvert_exporter": "python",
   "pygments_lexer": "ipython3",
   "version": "3.10.6"
  }
 },
 "nbformat": 4,
 "nbformat_minor": 5
}
